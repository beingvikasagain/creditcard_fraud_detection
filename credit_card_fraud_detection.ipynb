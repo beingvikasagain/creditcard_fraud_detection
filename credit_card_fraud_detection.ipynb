{
 "cells": [
  {
   "cell_type": "code",
   "execution_count": 1,
   "id": "tracked-montreal",
   "metadata": {},
   "outputs": [],
   "source": [
    "# Importing the required libraries\n",
    "import numpy as np\n",
    "import pandas as pd\n",
    "import matplotlib.pyplot as plt\n",
    "import seaborn as sns"
   ]
  },
  {
   "cell_type": "code",
   "execution_count": 2,
   "id": "frequent-astrology",
   "metadata": {},
   "outputs": [],
   "source": [
    "# Importing the dataset\n",
    "data = pd.read_csv('Credit Card Transactions.csv')"
   ]
  },
  {
   "cell_type": "code",
   "execution_count": 3,
   "id": "concerned-phrase",
   "metadata": {},
   "outputs": [
    {
     "data": {
      "text/plain": [
       "(5000, 23)"
      ]
     },
     "execution_count": 3,
     "metadata": {},
     "output_type": "execute_result"
    }
   ],
   "source": [
    "# Shape of data\n",
    "data.shape"
   ]
  },
  {
   "cell_type": "code",
   "execution_count": 4,
   "id": "contemporary-blues",
   "metadata": {},
   "outputs": [
    {
     "data": {
      "text/plain": [
       "Index(['Customer_ID', 'Status_Checking_Acc', 'Duration_in_Months',\n",
       "       'Credit_History', 'Purposre_Credit_Taken', 'Credit_Amount',\n",
       "       'Savings_Acc', 'Years_At_Present_Employment', 'Inst_Rt_Income',\n",
       "       'Marital_Status_Gender', 'Other_Debtors_Guarantors',\n",
       "       'Current_Address_Yrs', 'Property', 'Age', 'Other_Inst_Plans', 'Housing',\n",
       "       'Num_CC', 'Job', 'Dependents', 'Telephone', 'Foreign_Worker',\n",
       "       'Default_On_Payment', 'Count'],\n",
       "      dtype='object')"
      ]
     },
     "execution_count": 4,
     "metadata": {},
     "output_type": "execute_result"
    }
   ],
   "source": [
    "# list of columns\n",
    "data.columns"
   ]
  },
  {
   "cell_type": "code",
   "execution_count": 5,
   "id": "adopted-ticket",
   "metadata": {},
   "outputs": [
    {
     "name": "stdout",
     "output_type": "stream",
     "text": [
      "<class 'pandas.core.frame.DataFrame'>\n",
      "RangeIndex: 5000 entries, 0 to 4999\n",
      "Data columns (total 23 columns):\n",
      " #   Column                       Non-Null Count  Dtype \n",
      "---  ------                       --------------  ----- \n",
      " 0   Customer_ID                  5000 non-null   int64 \n",
      " 1   Status_Checking_Acc          5000 non-null   object\n",
      " 2   Duration_in_Months           5000 non-null   int64 \n",
      " 3   Credit_History               5000 non-null   object\n",
      " 4   Purposre_Credit_Taken        5000 non-null   object\n",
      " 5   Credit_Amount                5000 non-null   int64 \n",
      " 6   Savings_Acc                  5000 non-null   object\n",
      " 7   Years_At_Present_Employment  5000 non-null   object\n",
      " 8   Inst_Rt_Income               5000 non-null   int64 \n",
      " 9   Marital_Status_Gender        5000 non-null   object\n",
      " 10  Other_Debtors_Guarantors     5000 non-null   object\n",
      " 11  Current_Address_Yrs          5000 non-null   int64 \n",
      " 12  Property                     5000 non-null   object\n",
      " 13  Age                          5000 non-null   int64 \n",
      " 14  Other_Inst_Plans             5000 non-null   object\n",
      " 15  Housing                      5000 non-null   object\n",
      " 16  Num_CC                       5000 non-null   int64 \n",
      " 17  Job                          5000 non-null   object\n",
      " 18  Dependents                   5000 non-null   int64 \n",
      " 19  Telephone                    5000 non-null   object\n",
      " 20  Foreign_Worker               5000 non-null   object\n",
      " 21  Default_On_Payment           5000 non-null   int64 \n",
      " 22  Count                        5000 non-null   int64 \n",
      "dtypes: int64(10), object(13)\n",
      "memory usage: 898.6+ KB\n"
     ]
    }
   ],
   "source": [
    "# Describe dataframe\n",
    "data.info()"
   ]
  },
  {
   "cell_type": "code",
   "execution_count": 6,
   "id": "tested-paradise",
   "metadata": {},
   "outputs": [
    {
     "data": {
      "text/plain": [
       "Customer_ID                    0\n",
       "Status_Checking_Acc            0\n",
       "Duration_in_Months             0\n",
       "Credit_History                 0\n",
       "Purposre_Credit_Taken          0\n",
       "Credit_Amount                  0\n",
       "Savings_Acc                    0\n",
       "Years_At_Present_Employment    0\n",
       "Inst_Rt_Income                 0\n",
       "Marital_Status_Gender          0\n",
       "Other_Debtors_Guarantors       0\n",
       "Current_Address_Yrs            0\n",
       "Property                       0\n",
       "Age                            0\n",
       "Other_Inst_Plans               0\n",
       "Housing                        0\n",
       "Num_CC                         0\n",
       "Job                            0\n",
       "Dependents                     0\n",
       "Telephone                      0\n",
       "Foreign_Worker                 0\n",
       "Default_On_Payment             0\n",
       "Count                          0\n",
       "dtype: int64"
      ]
     },
     "execution_count": 6,
     "metadata": {},
     "output_type": "execute_result"
    }
   ],
   "source": [
    "# Checking the total null values\n",
    "data.isnull().sum()"
   ]
  },
  {
   "cell_type": "code",
   "execution_count": 7,
   "id": "virtual-royal",
   "metadata": {},
   "outputs": [
    {
     "data": {
      "text/plain": [
       "Customer_ID                       0\n",
       "Status_Checking_Acc               0\n",
       "Duration_in_Months                0\n",
       "Credit_History                    0\n",
       "Purposre_Credit_Taken             0\n",
       "Credit_Amount                     0\n",
       "Savings_Acc                       0\n",
       "Years_At_Present_Employment       0\n",
       "Inst_Rt_Income                    0\n",
       "Marital_Status_Gender             0\n",
       "Other_Debtors_Guarantors          0\n",
       "Current_Address_Yrs               0\n",
       "Property                          0\n",
       "Age                               0\n",
       "Other_Inst_Plans                  0\n",
       "Housing                           0\n",
       "Num_CC                            0\n",
       "Job                               0\n",
       "Dependents                        0\n",
       "Telephone                         0\n",
       "Foreign_Worker                    0\n",
       "Default_On_Payment             3505\n",
       "Count                             0\n",
       "dtype: int64"
      ]
     },
     "execution_count": 7,
     "metadata": {},
     "output_type": "execute_result"
    }
   ],
   "source": [
    "data[data==0].count()"
   ]
  },
  {
   "cell_type": "code",
   "execution_count": 8,
   "id": "effective-complement",
   "metadata": {},
   "outputs": [
    {
     "name": "stdout",
     "output_type": "stream",
     "text": [
      "Status_Checking_Acc : 4\n",
      "Credit_History : 5\n",
      "Purposre_Credit_Taken : 10\n",
      "Savings_Acc : 5\n",
      "Years_At_Present_Employment : 5\n",
      "Marital_Status_Gender : 4\n",
      "Other_Debtors_Guarantors : 3\n",
      "Property : 4\n",
      "Other_Inst_Plans : 3\n",
      "Housing : 3\n",
      "Job : 4\n",
      "Telephone : 2\n",
      "Foreign_Worker : 2\n"
     ]
    }
   ],
   "source": [
    "for i in data.columns:\n",
    "    if data[i].dtype=='object':\n",
    "        print(i,':',data[i].nunique())"
   ]
  },
  {
   "cell_type": "code",
   "execution_count": 9,
   "id": "equal-affect",
   "metadata": {},
   "outputs": [
    {
     "name": "stdout",
     "output_type": "stream",
     "text": [
      "Customer_ID : 5000\n",
      "Duration_in_Months : 33\n",
      "Credit_Amount : 921\n",
      "Inst_Rt_Income : 4\n",
      "Current_Address_Yrs : 4\n",
      "Age : 53\n",
      "Num_CC : 4\n",
      "Dependents : 2\n",
      "Default_On_Payment : 2\n",
      "Count : 1\n"
     ]
    }
   ],
   "source": [
    "for i in data.columns:\n",
    "    if data[i].dtype!='object':\n",
    "        print(i,':', data[i].nunique())\n",
    "        "
   ]
  },
  {
   "cell_type": "code",
   "execution_count": 10,
   "id": "atomic-value",
   "metadata": {},
   "outputs": [],
   "source": [
    "# Encoding non-numeric features\n",
    "\n",
    "from sklearn import preprocessing\n",
    "encoder = preprocessing.LabelEncoder()\n",
    "for i in data.columns:\n",
    "    if isinstance(data[i][0], str):\n",
    "        data[i] = encoder.fit_transform(data[i])"
   ]
  },
  {
   "cell_type": "code",
   "execution_count": 11,
   "id": "charged-fundamental",
   "metadata": {},
   "outputs": [
    {
     "data": {
      "text/html": [
       "<div>\n",
       "<style scoped>\n",
       "    .dataframe tbody tr th:only-of-type {\n",
       "        vertical-align: middle;\n",
       "    }\n",
       "\n",
       "    .dataframe tbody tr th {\n",
       "        vertical-align: top;\n",
       "    }\n",
       "\n",
       "    .dataframe thead th {\n",
       "        text-align: right;\n",
       "    }\n",
       "</style>\n",
       "<table border=\"1\" class=\"dataframe\">\n",
       "  <thead>\n",
       "    <tr style=\"text-align: right;\">\n",
       "      <th></th>\n",
       "      <th>Customer_ID</th>\n",
       "      <th>Status_Checking_Acc</th>\n",
       "      <th>Duration_in_Months</th>\n",
       "      <th>Credit_History</th>\n",
       "      <th>Purposre_Credit_Taken</th>\n",
       "      <th>Credit_Amount</th>\n",
       "      <th>Savings_Acc</th>\n",
       "      <th>Years_At_Present_Employment</th>\n",
       "      <th>Inst_Rt_Income</th>\n",
       "      <th>Marital_Status_Gender</th>\n",
       "      <th>...</th>\n",
       "      <th>Age</th>\n",
       "      <th>Other_Inst_Plans</th>\n",
       "      <th>Housing</th>\n",
       "      <th>Num_CC</th>\n",
       "      <th>Job</th>\n",
       "      <th>Dependents</th>\n",
       "      <th>Telephone</th>\n",
       "      <th>Foreign_Worker</th>\n",
       "      <th>Default_On_Payment</th>\n",
       "      <th>Count</th>\n",
       "    </tr>\n",
       "  </thead>\n",
       "  <tbody>\n",
       "    <tr>\n",
       "      <th>0</th>\n",
       "      <td>100001</td>\n",
       "      <td>0</td>\n",
       "      <td>6</td>\n",
       "      <td>4</td>\n",
       "      <td>4</td>\n",
       "      <td>1169</td>\n",
       "      <td>4</td>\n",
       "      <td>4</td>\n",
       "      <td>4</td>\n",
       "      <td>2</td>\n",
       "      <td>...</td>\n",
       "      <td>67</td>\n",
       "      <td>2</td>\n",
       "      <td>1</td>\n",
       "      <td>2</td>\n",
       "      <td>2</td>\n",
       "      <td>1</td>\n",
       "      <td>1</td>\n",
       "      <td>0</td>\n",
       "      <td>0</td>\n",
       "      <td>1</td>\n",
       "    </tr>\n",
       "    <tr>\n",
       "      <th>1</th>\n",
       "      <td>100002</td>\n",
       "      <td>1</td>\n",
       "      <td>48</td>\n",
       "      <td>2</td>\n",
       "      <td>4</td>\n",
       "      <td>5951</td>\n",
       "      <td>0</td>\n",
       "      <td>2</td>\n",
       "      <td>2</td>\n",
       "      <td>1</td>\n",
       "      <td>...</td>\n",
       "      <td>22</td>\n",
       "      <td>2</td>\n",
       "      <td>1</td>\n",
       "      <td>1</td>\n",
       "      <td>2</td>\n",
       "      <td>1</td>\n",
       "      <td>0</td>\n",
       "      <td>0</td>\n",
       "      <td>0</td>\n",
       "      <td>1</td>\n",
       "    </tr>\n",
       "    <tr>\n",
       "      <th>2</th>\n",
       "      <td>100003</td>\n",
       "      <td>3</td>\n",
       "      <td>12</td>\n",
       "      <td>4</td>\n",
       "      <td>7</td>\n",
       "      <td>2096</td>\n",
       "      <td>0</td>\n",
       "      <td>3</td>\n",
       "      <td>2</td>\n",
       "      <td>2</td>\n",
       "      <td>...</td>\n",
       "      <td>49</td>\n",
       "      <td>2</td>\n",
       "      <td>1</td>\n",
       "      <td>1</td>\n",
       "      <td>1</td>\n",
       "      <td>2</td>\n",
       "      <td>0</td>\n",
       "      <td>0</td>\n",
       "      <td>0</td>\n",
       "      <td>1</td>\n",
       "    </tr>\n",
       "    <tr>\n",
       "      <th>3</th>\n",
       "      <td>100004</td>\n",
       "      <td>0</td>\n",
       "      <td>42</td>\n",
       "      <td>2</td>\n",
       "      <td>3</td>\n",
       "      <td>7882</td>\n",
       "      <td>0</td>\n",
       "      <td>3</td>\n",
       "      <td>2</td>\n",
       "      <td>2</td>\n",
       "      <td>...</td>\n",
       "      <td>45</td>\n",
       "      <td>2</td>\n",
       "      <td>2</td>\n",
       "      <td>1</td>\n",
       "      <td>2</td>\n",
       "      <td>2</td>\n",
       "      <td>0</td>\n",
       "      <td>0</td>\n",
       "      <td>0</td>\n",
       "      <td>1</td>\n",
       "    </tr>\n",
       "    <tr>\n",
       "      <th>4</th>\n",
       "      <td>100005</td>\n",
       "      <td>0</td>\n",
       "      <td>24</td>\n",
       "      <td>3</td>\n",
       "      <td>0</td>\n",
       "      <td>4870</td>\n",
       "      <td>0</td>\n",
       "      <td>2</td>\n",
       "      <td>3</td>\n",
       "      <td>2</td>\n",
       "      <td>...</td>\n",
       "      <td>53</td>\n",
       "      <td>2</td>\n",
       "      <td>2</td>\n",
       "      <td>2</td>\n",
       "      <td>2</td>\n",
       "      <td>2</td>\n",
       "      <td>0</td>\n",
       "      <td>0</td>\n",
       "      <td>1</td>\n",
       "      <td>1</td>\n",
       "    </tr>\n",
       "  </tbody>\n",
       "</table>\n",
       "<p>5 rows × 23 columns</p>\n",
       "</div>"
      ],
      "text/plain": [
       "   Customer_ID  Status_Checking_Acc  Duration_in_Months  Credit_History  \\\n",
       "0       100001                    0                   6               4   \n",
       "1       100002                    1                  48               2   \n",
       "2       100003                    3                  12               4   \n",
       "3       100004                    0                  42               2   \n",
       "4       100005                    0                  24               3   \n",
       "\n",
       "   Purposre_Credit_Taken  Credit_Amount  Savings_Acc  \\\n",
       "0                      4           1169            4   \n",
       "1                      4           5951            0   \n",
       "2                      7           2096            0   \n",
       "3                      3           7882            0   \n",
       "4                      0           4870            0   \n",
       "\n",
       "   Years_At_Present_Employment  Inst_Rt_Income  Marital_Status_Gender  ...  \\\n",
       "0                            4               4                      2  ...   \n",
       "1                            2               2                      1  ...   \n",
       "2                            3               2                      2  ...   \n",
       "3                            3               2                      2  ...   \n",
       "4                            2               3                      2  ...   \n",
       "\n",
       "   Age  Other_Inst_Plans  Housing  Num_CC  Job  Dependents  Telephone  \\\n",
       "0   67                 2        1       2    2           1          1   \n",
       "1   22                 2        1       1    2           1          0   \n",
       "2   49                 2        1       1    1           2          0   \n",
       "3   45                 2        2       1    2           2          0   \n",
       "4   53                 2        2       2    2           2          0   \n",
       "\n",
       "   Foreign_Worker  Default_On_Payment  Count  \n",
       "0               0                   0      1  \n",
       "1               0                   0      1  \n",
       "2               0                   0      1  \n",
       "3               0                   0      1  \n",
       "4               0                   1      1  \n",
       "\n",
       "[5 rows x 23 columns]"
      ]
     },
     "execution_count": 11,
     "metadata": {},
     "output_type": "execute_result"
    }
   ],
   "source": [
    "data.head()"
   ]
  },
  {
   "cell_type": "code",
   "execution_count": 12,
   "id": "local-salad",
   "metadata": {},
   "outputs": [
    {
     "data": {
      "text/plain": [
       "Index(['Status_Checking_Acc', 'Duration_in_Months', 'Credit_History',\n",
       "       'Purposre_Credit_Taken', 'Credit_Amount', 'Savings_Acc',\n",
       "       'Years_At_Present_Employment', 'Inst_Rt_Income',\n",
       "       'Marital_Status_Gender', 'Other_Debtors_Guarantors',\n",
       "       'Current_Address_Yrs', 'Property', 'Age', 'Other_Inst_Plans', 'Housing',\n",
       "       'Num_CC', 'Job', 'Dependents', 'Telephone', 'Foreign_Worker',\n",
       "       'Default_On_Payment'],\n",
       "      dtype='object')"
      ]
     },
     "execution_count": 12,
     "metadata": {},
     "output_type": "execute_result"
    }
   ],
   "source": [
    "# Dropping irrelevent columns\n",
    "data = data.drop(['Customer_ID','Count'], axis=1)\n",
    "data.columns"
   ]
  },
  {
   "cell_type": "code",
   "execution_count": 13,
   "id": "exciting-budget",
   "metadata": {},
   "outputs": [
    {
     "data": {
      "text/plain": [
       "0    3505\n",
       "1    1495\n",
       "Name: Default_On_Payment, dtype: int64"
      ]
     },
     "execution_count": 13,
     "metadata": {},
     "output_type": "execute_result"
    }
   ],
   "source": [
    "# Check the different values and their counts\n",
    "data['Default_On_Payment'].value_counts()"
   ]
  },
  {
   "cell_type": "code",
   "execution_count": 16,
   "id": "standard-democrat",
   "metadata": {},
   "outputs": [],
   "source": [
    "# Class balancing\n"
   ]
  },
  {
   "cell_type": "code",
   "execution_count": 15,
   "id": "exact-nursery",
   "metadata": {},
   "outputs": [
    {
     "data": {
      "text/plain": [
       "RangeIndex(start=0, stop=5000, step=1)"
      ]
     },
     "execution_count": 15,
     "metadata": {},
     "output_type": "execute_result"
    }
   ],
   "source": [
    "data.reset_index(drop=True, inplace=True)\n",
    "data.index"
   ]
  },
  {
   "cell_type": "code",
   "execution_count": 17,
   "id": "expanded-animation",
   "metadata": {},
   "outputs": [
    {
     "data": {
      "image/png": "[encoded data removed]",
      "text/plain": [
       "<Figure size 432x288 with 1 Axes>"
      ]
     },
     "metadata": {
      "needs_background": "light"
     },
     "output_type": "display_data"
    }
   ],
   "source": [
    "# finding outliers\n",
    "import matplotlib.pyplot as plt\n",
    "plt.scatter(data.index, data['Credit_Amount'])\n",
    "plt.show()"
   ]
  },
  {
   "cell_type": "code",
   "execution_count": 21,
   "id": "played-brain",
   "metadata": {},
   "outputs": [
    {
     "data": {
      "text/plain": [
       "<matplotlib.collections.PathCollection at 0x7fa2d793cb20>"
      ]
     },
     "execution_count": 21,
     "metadata": {},
     "output_type": "execute_result"
    },
    {
     "data": {
      "image/png": "[encoded data removed]",
      "text/plain": [
       "<Figure size 432x288 with 1 Axes>"
      ]
     },
     "metadata": {
      "needs_background": "light"
     },
     "output_type": "display_data"
    }
   ],
   "source": [
    "# removing the 5 outer most points\n",
    "\n",
    "li = list(data['Credit_Amount'].sort_values()[-5:].index)\n",
    "data['Credit_Amount'][li]=int(data.drop(li)['Credit_Amount'].mean())\n",
    "plt.scatter(data.index, data['Credit_Amount'])"
   ]
  },
  {
   "cell_type": "code",
   "execution_count": 22,
   "id": "cooperative-locator",
   "metadata": {},
   "outputs": [
    {
     "data": {
      "text/plain": [
       "['Status_Checking_Acc',\n",
       " 'Duration_in_Months',\n",
       " 'Credit_History',\n",
       " 'Purposre_Credit_Taken',\n",
       " 'Credit_Amount',\n",
       " 'Savings_Acc',\n",
       " 'Years_At_Present_Employment',\n",
       " 'Inst_Rt_Income',\n",
       " 'Marital_Status_Gender',\n",
       " 'Other_Debtors_Guarantors',\n",
       " 'Current_Address_Yrs',\n",
       " 'Property',\n",
       " 'Age',\n",
       " 'Other_Inst_Plans',\n",
       " 'Housing',\n",
       " 'Num_CC',\n",
       " 'Job',\n",
       " 'Dependents',\n",
       " 'Telephone',\n",
       " 'Foreign_Worker',\n",
       " 'Default_On_Payment']"
      ]
     },
     "execution_count": 22,
     "metadata": {},
     "output_type": "execute_result"
    }
   ],
   "source": [
    "list(data.columns)"
   ]
  },
  {
   "cell_type": "code",
   "execution_count": 25,
   "id": "endangered-sponsorship",
   "metadata": {},
   "outputs": [],
   "source": [
    "# Feature selection\n",
    "x = data.iloc[:,:-1]\n",
    "y = data.loc[:,'Default_On_Payment']"
   ]
  },
  {
   "cell_type": "code",
   "execution_count": 28,
   "id": "imperial-planner",
   "metadata": {},
   "outputs": [
    {
     "data": {
      "text/plain": [
       "(5000, 21)"
      ]
     },
     "metadata": {},
     "output_type": "display_data"
    }
   ],
   "source": [
    "from statsmodels.stats.outliers_influence import variance_inflation_factor\n",
    "from statsmodels.tools.tools import add_constant\n",
    "\n",
    "x = add_constant(x)\n",
    "display(x.shape)"
   ]
  },
  {
   "cell_type": "code",
   "execution_count": 29,
   "id": "outstanding-damage",
   "metadata": {},
   "outputs": [
    {
     "data": {
      "text/plain": [
       "Other_Inst_Plans                1.052666\n",
       "Marital_Status_Gender           1.067881\n",
       "Other_Debtors_Guarantors        1.072735\n",
       "Purposre_Credit_Taken           1.072977\n",
       "Foreign_Worker                  1.078167\n",
       "Dependents                      1.083040\n",
       "Savings_Acc                     1.100208\n",
       "Status_Checking_Acc             1.139096\n",
       "Current_Address_Yrs             1.184206\n",
       "Years_At_Present_Employment     1.196142\n",
       "Telephone                       1.272943\n",
       "Inst_Rt_Income                  1.302146\n",
       "Num_CC                          1.304571\n",
       "Age                             1.305332\n",
       "Housing                         1.307878\n",
       "Job                             1.331433\n",
       "Credit_History                  1.357396\n",
       "Property                        1.396762\n",
       "Duration_in_Months              1.925800\n",
       "Credit_Amount                   2.228846\n",
       "const                          58.892670\n",
       "dtype: float64"
      ]
     },
     "execution_count": 29,
     "metadata": {},
     "output_type": "execute_result"
    }
   ],
   "source": [
    "pd.Series([variance_inflation_factor(x.values, i) for i in range(x.shape[1])], index=x.columns).sort_values()"
   ]
  },
  {
   "cell_type": "code",
   "execution_count": 31,
   "id": "mobile-bottle",
   "metadata": {},
   "outputs": [
    {
     "data": {
      "text/plain": [
       "Credit_Amount                   0.000000e+00\n",
       "Status_Checking_Acc            4.303013e-133\n",
       "Credit_History                  1.873780e-65\n",
       "Duration_in_Months              1.429318e-61\n",
       "Savings_Acc                     2.005236e-37\n",
       "Age                             1.227006e-33\n",
       "Purposre_Credit_Taken           3.985377e-32\n",
       "Property                        1.702444e-26\n",
       "Housing                         6.229983e-21\n",
       "Years_At_Present_Employment     5.621205e-19\n",
       "Other_Inst_Plans                5.957742e-15\n",
       "Marital_Status_Gender           6.541125e-10\n",
       "Foreign_Worker                  1.216850e-08\n",
       "Other_Debtors_Guarantors        5.880412e-08\n",
       "Inst_Rt_Income                  2.214123e-06\n",
       "Num_CC                          5.498509e-03\n",
       "Telephone                       1.541937e-02\n",
       "Job                             2.144243e-02\n",
       "Current_Address_Yrs             3.772547e-01\n",
       "Dependents                      9.167256e-01\n",
       "const                           1.000000e+00\n",
       "dtype: float64"
      ]
     },
     "execution_count": 31,
     "metadata": {},
     "output_type": "execute_result"
    }
   ],
   "source": [
    "# Significancy (find p-value) using chi-square\n",
    "import scipy.stats as stats\n",
    "from scipy.stats import chi2_contingency\n",
    "\n",
    "significance = pd.Series(dtype=float)\n",
    "for i in x.columns:\n",
    "    dfobserved = pd.crosstab(x[i],y)\n",
    "    chi2, p, dof, expected = stats.chi2_contingency(dfobserved.values)\n",
    "    significance[i]=p\n",
    "significance.sort_values()"
   ]
  },
  {
   "cell_type": "code",
   "execution_count": 38,
   "id": "rising-bachelor",
   "metadata": {},
   "outputs": [
    {
     "data": {
      "text/plain": [
       "const                            0.000000\n",
       "Dependents                       8.327441\n",
       "Current_Address_Yrs             62.274532\n",
       "Job                             97.855757\n",
       "Telephone                       98.458063\n",
       "Num_CC                          99.450149\n",
       "Inst_Rt_Income                  99.999779\n",
       "Other_Debtors_Guarantors        99.999994\n",
       "Foreign_Worker                  99.999999\n",
       "Marital_Status_Gender          100.000000\n",
       "Other_Inst_Plans               100.000000\n",
       "Savings_Acc                    100.000000\n",
       "Credit_Amount                  100.000000\n",
       "Purposre_Credit_Taken          100.000000\n",
       "Property                       100.000000\n",
       "Age                            100.000000\n",
       "Housing                        100.000000\n",
       "Credit_History                 100.000000\n",
       "Duration_in_Months             100.000000\n",
       "Status_Checking_Acc            100.000000\n",
       "Years_At_Present_Employment    100.000000\n",
       "dtype: float64"
      ]
     },
     "execution_count": 38,
     "metadata": {},
     "output_type": "execute_result"
    }
   ],
   "source": [
    "# confidence score %\n",
    "\n",
    "import scipy.stats as stats\n",
    "from scipy.stats import chi2_contingency\n",
    "\n",
    "significance = pd.Series(dtype=float)\n",
    "\n",
    "for i in x.columns:\n",
    "    dfobserved = pd.crosstab(x[i],y)\n",
    "    chi2, p, dof, expected = stats.chi2_contingency(dfobserved.values)\n",
    "#     print(,'\\t', p)\n",
    "    significance[i] = (1-p)*100\n",
    "\n",
    "significance.sort_values()"
   ]
  },
  {
   "cell_type": "code",
   "execution_count": 39,
   "id": "korean-crime",
   "metadata": {},
   "outputs": [
    {
     "data": {
      "text/plain": [
       "F_onewayResult(statistic=6855.109699626198, pvalue=0.0)"
      ]
     },
     "execution_count": 39,
     "metadata": {},
     "output_type": "execute_result"
    }
   ],
   "source": [
    "# age and credit amount is a continous variable. we will check anova for this\n",
    "import scipy.stats as stats\n",
    "stats.f_oneway(x['Credit_Amount'],y)"
   ]
  },
  {
   "cell_type": "code",
   "execution_count": 40,
   "id": "framed-battle",
   "metadata": {},
   "outputs": [
    {
     "data": {
      "text/plain": [
       "F_onewayResult(statistic=47964.48534645687, pvalue=0.0)"
      ]
     },
     "execution_count": 40,
     "metadata": {},
     "output_type": "execute_result"
    }
   ],
   "source": [
    "stats.f_oneway(x['Age'],y)"
   ]
  },
  {
   "cell_type": "code",
   "execution_count": 45,
   "id": "closed-fleece",
   "metadata": {},
   "outputs": [],
   "source": [
    "# Splitting data\n",
    "from sklearn.model_selection import train_test_split\n",
    "from sklearn.linear_model import LogisticRegression\n",
    "x_train, x_test, y_train, y_test = train_test_split(x,y,test_size=.5, random_state=4589)"
   ]
  },
  {
   "cell_type": "code",
   "execution_count": 46,
   "id": "effective-particular",
   "metadata": {},
   "outputs": [
    {
     "data": {
      "text/plain": [
       "(2500, 21)"
      ]
     },
     "execution_count": 46,
     "metadata": {},
     "output_type": "execute_result"
    }
   ],
   "source": [
    "x_train.shape"
   ]
  },
  {
   "cell_type": "code",
   "execution_count": 47,
   "id": "resistant-eight",
   "metadata": {},
   "outputs": [
    {
     "name": "stderr",
     "output_type": "stream",
     "text": [
      "/home/vikas/anaconda3/envs/techstack/lib/python3.8/site-packages/sklearn/linear_model/_logistic.py:763: ConvergenceWarning: lbfgs failed to converge (status=1):\n",
      "STOP: TOTAL NO. of ITERATIONS REACHED LIMIT.\n",
      "\n",
      "Increase the number of iterations (max_iter) or scale the data as shown in:\n",
      "    https://scikit-learn.org/stable/modules/preprocessing.html\n",
      "Please also refer to the documentation for alternative solver options:\n",
      "    https://scikit-learn.org/stable/modules/linear_model.html#logistic-regression\n",
      "  n_iter_i = _check_optimize_result(\n"
     ]
    },
    {
     "data": {
      "text/plain": [
       "LogisticRegression()"
      ]
     },
     "execution_count": 47,
     "metadata": {},
     "output_type": "execute_result"
    }
   ],
   "source": [
    "# modeling\n",
    "model = LogisticRegression()\n",
    "model.fit(x_train, y_train)"
   ]
  },
  {
   "cell_type": "code",
   "execution_count": null,
   "id": "green-inspection",
   "metadata": {},
   "outputs": [],
   "source": []
  }
 ],
 "metadata": {
  "kernelspec": {
   "display_name": "Python 3",
   "language": "python",
   "name": "python3"
  },
  "language_info": {
   "codemirror_mode": {
    "name": "ipython",
    "version": 3
   },
   "file_extension": ".py",
   "mimetype": "text/x-python",
   "name": "python",
   "nbconvert_exporter": "python",
   "pygments_lexer": "ipython3",
   "version": "3.8.5"
  }
 },
 "nbformat": 4,
 "nbformat_minor": 5
}
